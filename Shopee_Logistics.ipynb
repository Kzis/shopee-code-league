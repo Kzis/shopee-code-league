{
  "nbformat": 4,
  "nbformat_minor": 0,
  "metadata": {
    "colab": {
      "name": "Shopee-Logistics.ipynb",
      "provenance": [],
      "collapsed_sections": [],
      "authorship_tag": "ABX9TyPGKTuFuTVZDqnRefikSWbt",
      "include_colab_link": true
    },
    "kernelspec": {
      "name": "python3",
      "display_name": "Python 3"
    }
  },
  "cells": [
    {
      "cell_type": "markdown",
      "metadata": {
        "id": "view-in-github",
        "colab_type": "text"
      },
      "source": [
        "<a href=\"https://colab.research.google.com/github/Kzis/shopee-code-league/blob/main/Shopee_Logistics.ipynb\" target=\"_parent\"><img src=\"https://colab.research.google.com/assets/colab-badge.svg\" alt=\"Open In Colab\"/></a>"
      ]
    },
    {
      "cell_type": "code",
      "metadata": {
        "id": "f60Ovi-nNhWM"
      },
      "source": [
        "import pandas as pd\r\n",
        "import numpy as np\r\n",
        "from datetime import datetime\r\n",
        "import re"
      ],
      "execution_count": 1,
      "outputs": []
    },
    {
      "cell_type": "code",
      "metadata": {
        "id": "5Jk2W19nNzrr",
        "colab": {
          "base_uri": "https://localhost:8080/"
        },
        "outputId": "df8d254a-ded2-4fa6-8719-4637d0c35089"
      },
      "source": [
        "from google.colab import drive\r\n",
        "drive.mount('/content/gdrive')"
      ],
      "execution_count": 2,
      "outputs": [
        {
          "output_type": "stream",
          "text": [
            "Drive already mounted at /content/gdrive; to attempt to forcibly remount, call drive.mount(\"/content/gdrive\", force_remount=True).\n"
          ],
          "name": "stdout"
        }
      ]
    },
    {
      "cell_type": "code",
      "metadata": {
        "id": "bOad3XzsSCxj"
      },
      "source": [
        "df = pd.read_csv(\"gdrive/My Drive/Shopee/delivery_orders_march.csv\")"
      ],
      "execution_count": 3,
      "outputs": []
    },
    {
      "cell_type": "code",
      "metadata": {
        "colab": {
          "base_uri": "https://localhost:8080/"
        },
        "id": "ZWaS95olSVuC",
        "outputId": "6c432618-2871-43e9-fb2a-03cc227c5e4f"
      },
      "source": [
        "df.shape"
      ],
      "execution_count": 4,
      "outputs": [
        {
          "output_type": "execute_result",
          "data": {
            "text/plain": [
              "(3176313, 6)"
            ]
          },
          "metadata": {
            "tags": []
          },
          "execution_count": 4
        }
      ]
    },
    {
      "cell_type": "code",
      "metadata": {
        "id": "W-Zz6q1DTlFK"
      },
      "source": [
        "df.rename(columns={'1st_deliver_attempt': 'first_deliver_attempt', '2nd_deliver_attempt': 'second_deliver_attempt'}, inplace=True)\r\n"
      ],
      "execution_count": 5,
      "outputs": []
    },
    {
      "cell_type": "code",
      "metadata": {
        "colab": {
          "base_uri": "https://localhost:8080/",
          "height": 195
        },
        "id": "hw9aixqaSbaB",
        "outputId": "8c90ee8f-df15-4a8c-f975-ff768fc0970b"
      },
      "source": [
        "df.head()"
      ],
      "execution_count": 6,
      "outputs": [
        {
          "output_type": "execute_result",
          "data": {
            "text/html": [
              "<div>\n",
              "<style scoped>\n",
              "    .dataframe tbody tr th:only-of-type {\n",
              "        vertical-align: middle;\n",
              "    }\n",
              "\n",
              "    .dataframe tbody tr th {\n",
              "        vertical-align: top;\n",
              "    }\n",
              "\n",
              "    .dataframe thead th {\n",
              "        text-align: right;\n",
              "    }\n",
              "</style>\n",
              "<table border=\"1\" class=\"dataframe\">\n",
              "  <thead>\n",
              "    <tr style=\"text-align: right;\">\n",
              "      <th></th>\n",
              "      <th>orderid</th>\n",
              "      <th>pick</th>\n",
              "      <th>first_deliver_attempt</th>\n",
              "      <th>second_deliver_attempt</th>\n",
              "      <th>buyeraddress</th>\n",
              "      <th>selleraddress</th>\n",
              "    </tr>\n",
              "  </thead>\n",
              "  <tbody>\n",
              "    <tr>\n",
              "      <th>0</th>\n",
              "      <td>2215676524</td>\n",
              "      <td>1583138397</td>\n",
              "      <td>1.583385e+09</td>\n",
              "      <td>NaN</td>\n",
              "      <td>Baging ldl BUENAVISTA,PATAG.CAGAYAN Buagsong,c...</td>\n",
              "      <td>Pantranco vill. 417 Warehouse# katipunan 532 (...</td>\n",
              "    </tr>\n",
              "    <tr>\n",
              "      <th>1</th>\n",
              "      <td>2219624609</td>\n",
              "      <td>1583309968</td>\n",
              "      <td>1.583463e+09</td>\n",
              "      <td>1.583799e+09</td>\n",
              "      <td>coloma's quzom CASANAS Site1 Masiyan 533A Stol...</td>\n",
              "      <td>BLDG 210A Moras C42B 2B16,168 church) Complex ...</td>\n",
              "    </tr>\n",
              "    <tr>\n",
              "      <th>2</th>\n",
              "      <td>2220979489</td>\n",
              "      <td>1583306434</td>\n",
              "      <td>1.583460e+09</td>\n",
              "      <td>NaN</td>\n",
              "      <td>21-O LumangDaan,Capitangan,Abucay,Bataan .Bign...</td>\n",
              "      <td>#66 150-C, DRIVE, Milagros Joe socorro Metro M...</td>\n",
              "    </tr>\n",
              "    <tr>\n",
              "      <th>3</th>\n",
              "      <td>2221066352</td>\n",
              "      <td>1583419016</td>\n",
              "      <td>1.583556e+09</td>\n",
              "      <td>NaN</td>\n",
              "      <td>616Espiritu MARTINVILLE,MANUYO #5paraiso kengi...</td>\n",
              "      <td>999maII 201,26 Villaruel Barretto gen.t number...</td>\n",
              "    </tr>\n",
              "    <tr>\n",
              "      <th>4</th>\n",
              "      <td>2222478803</td>\n",
              "      <td>1583318305</td>\n",
              "      <td>1.583480e+09</td>\n",
              "      <td>NaN</td>\n",
              "      <td>L042 Summerbreezee1 L2(Balanay analyn Lot760 C...</td>\n",
              "      <td>G66MANILA Hiyas Fitness MAYSILO magdiwang Lt.4...</td>\n",
              "    </tr>\n",
              "  </tbody>\n",
              "</table>\n",
              "</div>"
            ],
            "text/plain": [
              "      orderid  ...                                      selleraddress\n",
              "0  2215676524  ...  Pantranco vill. 417 Warehouse# katipunan 532 (...\n",
              "1  2219624609  ...  BLDG 210A Moras C42B 2B16,168 church) Complex ...\n",
              "2  2220979489  ...  #66 150-C, DRIVE, Milagros Joe socorro Metro M...\n",
              "3  2221066352  ...  999maII 201,26 Villaruel Barretto gen.t number...\n",
              "4  2222478803  ...  G66MANILA Hiyas Fitness MAYSILO magdiwang Lt.4...\n",
              "\n",
              "[5 rows x 6 columns]"
            ]
          },
          "metadata": {
            "tags": []
          },
          "execution_count": 6
        }
      ]
    },
    {
      "cell_type": "markdown",
      "metadata": {
        "id": "cO_hxwykzi0C"
      },
      "source": [
        "#Create Instants & Prep Data"
      ]
    },
    {
      "cell_type": "code",
      "metadata": {
        "id": "F4-8rP8YT5hK"
      },
      "source": [
        "public_holidays = [\"2020-03-08\", \"2020-03-25\", \"2020-03-30\", \"2020-03-31\"]\r\n",
        "city_order = [\"metro manila\", \"luzon\", \"visayas\", \"mindanao\"]\r\n",
        "GMT8_OFFSET = 3600 * 8"
      ],
      "execution_count": 7,
      "outputs": []
    },
    {
      "cell_type": "code",
      "metadata": {
        "id": "jZub1B5RaFv6"
      },
      "source": [
        "# Prep datetime\r\n",
        "df[[\"pick\", \"first_deliver_attempt\", \"second_deliver_attempt\"]] +=GMT8_OFFSET\r\n",
        "\r\n",
        "df[\"pick\"] = pd.to_datetime(df[\"pick\"],unit='s').dt.date\r\n",
        "\r\n",
        "df[\"first_deliver_attempt\"] = pd.to_datetime(df[\"first_deliver_attempt\"],unit='s').dt.date\r\n",
        "\r\n",
        "df[\"second_deliver_attempt\"].fillna(0, inplace = True)\r\n",
        "df[\"second_deliver_attempt\"] = pd.to_datetime(df[\"second_deliver_attempt\"],unit='s').dt.date"
      ],
      "execution_count": 8,
      "outputs": []
    },
    {
      "cell_type": "code",
      "metadata": {
        "id": "GgMa4Nbuaxue"
      },
      "source": [
        "# text = \"217B SURGERY, ROCKWELL,POWERPLANT C/OGIFTIAN PICTURECITY KATOLIKO(DAAN KWATRO. DULAWON CAPITOLINEHILLS YONZON D.B. TUPSAN, IBAYO,ABUCAY,BATAAN 32,KATABI 918-HELICONIA STS.,ORMOC (PHIL-DATA BLK1,LOT3 #10SAMPALOC BLOCK61LOT10, DUPLEX-A 22A11 CAMELLA.FRONTE\"\r\n",
        "# print(find_city_regex(text))\r\n",
        "\r\n",
        "# tt = df[df[\"orderid\"]==2218922817][\"buyeraddress\"].values\r\n",
        "# print(tt)\r\n",
        "# print(find_city_regex(tt[0]))"
      ],
      "execution_count": 9,
      "outputs": []
    },
    {
      "cell_type": "markdown",
      "metadata": {
        "id": "seXK6sICz2CY"
      },
      "source": [
        "#Find Origin And Destination"
      ]
    },
    {
      "cell_type": "code",
      "metadata": {
        "id": "f0ij5u1pVRLb"
      },
      "source": [
        "def find_city(address):\r\n",
        "    for city in city_order:\r\n",
        "        if city.lower() in address.lower():\r\n",
        "            return city.lower()"
      ],
      "execution_count": 10,
      "outputs": []
    },
    {
      "cell_type": "code",
      "metadata": {
        "id": "U8PuHLc3XTIX"
      },
      "source": [
        "def find_city_regex(address):\r\n",
        "  match_city = \"TEST\"\r\n",
        "  for city in city_order:\r\n",
        "    result = re.findall(city,address.lower())\r\n",
        "    if len(result) > 0 :\r\n",
        "      match_city = result[0]\r\n",
        "  return match_city\r\n"
      ],
      "execution_count": 11,
      "outputs": []
    },
    {
      "cell_type": "code",
      "metadata": {
        "id": "ITCIBf70VmtR"
      },
      "source": [
        "df['origin'] = df['selleraddress'].apply(find_city_regex)\r\n",
        "df['destination'] = df['buyeraddress'].apply(find_city_regex)"
      ],
      "execution_count": 12,
      "outputs": []
    },
    {
      "cell_type": "code",
      "metadata": {
        "colab": {
          "base_uri": "https://localhost:8080/",
          "height": 279
        },
        "id": "InG3dD99Vy0j",
        "outputId": "d77e46e1-4d3b-4ee5-e9f3-50ab8489d6cf"
      },
      "source": [
        "df.head()"
      ],
      "execution_count": 13,
      "outputs": [
        {
          "output_type": "execute_result",
          "data": {
            "text/html": [
              "<div>\n",
              "<style scoped>\n",
              "    .dataframe tbody tr th:only-of-type {\n",
              "        vertical-align: middle;\n",
              "    }\n",
              "\n",
              "    .dataframe tbody tr th {\n",
              "        vertical-align: top;\n",
              "    }\n",
              "\n",
              "    .dataframe thead th {\n",
              "        text-align: right;\n",
              "    }\n",
              "</style>\n",
              "<table border=\"1\" class=\"dataframe\">\n",
              "  <thead>\n",
              "    <tr style=\"text-align: right;\">\n",
              "      <th></th>\n",
              "      <th>orderid</th>\n",
              "      <th>pick</th>\n",
              "      <th>first_deliver_attempt</th>\n",
              "      <th>second_deliver_attempt</th>\n",
              "      <th>buyeraddress</th>\n",
              "      <th>selleraddress</th>\n",
              "      <th>origin</th>\n",
              "      <th>destination</th>\n",
              "    </tr>\n",
              "  </thead>\n",
              "  <tbody>\n",
              "    <tr>\n",
              "      <th>0</th>\n",
              "      <td>2215676524</td>\n",
              "      <td>2020-03-02</td>\n",
              "      <td>2020-03-05</td>\n",
              "      <td>1970-01-01</td>\n",
              "      <td>Baging ldl BUENAVISTA,PATAG.CAGAYAN Buagsong,c...</td>\n",
              "      <td>Pantranco vill. 417 Warehouse# katipunan 532 (...</td>\n",
              "      <td>metro manila</td>\n",
              "      <td>metro manila</td>\n",
              "    </tr>\n",
              "    <tr>\n",
              "      <th>1</th>\n",
              "      <td>2219624609</td>\n",
              "      <td>2020-03-04</td>\n",
              "      <td>2020-03-06</td>\n",
              "      <td>2020-03-10</td>\n",
              "      <td>coloma's quzom CASANAS Site1 Masiyan 533A Stol...</td>\n",
              "      <td>BLDG 210A Moras C42B 2B16,168 church) Complex ...</td>\n",
              "      <td>metro manila</td>\n",
              "      <td>metro manila</td>\n",
              "    </tr>\n",
              "    <tr>\n",
              "      <th>2</th>\n",
              "      <td>2220979489</td>\n",
              "      <td>2020-03-04</td>\n",
              "      <td>2020-03-06</td>\n",
              "      <td>1970-01-01</td>\n",
              "      <td>21-O LumangDaan,Capitangan,Abucay,Bataan .Bign...</td>\n",
              "      <td>#66 150-C, DRIVE, Milagros Joe socorro Metro M...</td>\n",
              "      <td>metro manila</td>\n",
              "      <td>metro manila</td>\n",
              "    </tr>\n",
              "    <tr>\n",
              "      <th>3</th>\n",
              "      <td>2221066352</td>\n",
              "      <td>2020-03-05</td>\n",
              "      <td>2020-03-07</td>\n",
              "      <td>1970-01-01</td>\n",
              "      <td>616Espiritu MARTINVILLE,MANUYO #5paraiso kengi...</td>\n",
              "      <td>999maII 201,26 Villaruel Barretto gen.t number...</td>\n",
              "      <td>metro manila</td>\n",
              "      <td>metro manila</td>\n",
              "    </tr>\n",
              "    <tr>\n",
              "      <th>4</th>\n",
              "      <td>2222478803</td>\n",
              "      <td>2020-03-04</td>\n",
              "      <td>2020-03-06</td>\n",
              "      <td>1970-01-01</td>\n",
              "      <td>L042 Summerbreezee1 L2(Balanay analyn Lot760 C...</td>\n",
              "      <td>G66MANILA Hiyas Fitness MAYSILO magdiwang Lt.4...</td>\n",
              "      <td>metro manila</td>\n",
              "      <td>luzon</td>\n",
              "    </tr>\n",
              "  </tbody>\n",
              "</table>\n",
              "</div>"
            ],
            "text/plain": [
              "      orderid        pick  ...        origin   destination\n",
              "0  2215676524  2020-03-02  ...  metro manila  metro manila\n",
              "1  2219624609  2020-03-04  ...  metro manila  metro manila\n",
              "2  2220979489  2020-03-04  ...  metro manila  metro manila\n",
              "3  2221066352  2020-03-05  ...  metro manila  metro manila\n",
              "4  2222478803  2020-03-04  ...  metro manila         luzon\n",
              "\n",
              "[5 rows x 8 columns]"
            ]
          },
          "metadata": {
            "tags": []
          },
          "execution_count": 13
        }
      ]
    },
    {
      "cell_type": "code",
      "metadata": {
        "colab": {
          "base_uri": "https://localhost:8080/"
        },
        "id": "fbJFOfUYWufj",
        "outputId": "09801695-acdd-4f33-afc4-56db793bfeb0"
      },
      "source": [
        "df.origin.value_counts(dropna = False)"
      ],
      "execution_count": 14,
      "outputs": [
        {
          "output_type": "execute_result",
          "data": {
            "text/plain": [
              "metro manila    3173960\n",
              "luzon              2353\n",
              "Name: origin, dtype: int64"
            ]
          },
          "metadata": {
            "tags": []
          },
          "execution_count": 14
        }
      ]
    },
    {
      "cell_type": "code",
      "metadata": {
        "colab": {
          "base_uri": "https://localhost:8080/"
        },
        "id": "hFDf2TmTWuyT",
        "outputId": "af987ad8-5ee7-415c-ea9b-388a7fa455fe"
      },
      "source": [
        "df.destination.value_counts(dropna = False)\r\n"
      ],
      "execution_count": 15,
      "outputs": [
        {
          "output_type": "execute_result",
          "data": {
            "text/plain": [
              "metro manila    1559099\n",
              "luzon            805484\n",
              "visayas          479986\n",
              "mindanao         331744\n",
              "Name: destination, dtype: int64"
            ]
          },
          "metadata": {
            "tags": []
          },
          "execution_count": 15
        }
      ]
    },
    {
      "cell_type": "code",
      "metadata": {
        "id": "NqzfQepsjuCq"
      },
      "source": [
        "# df.pick.value_counts()"
      ],
      "execution_count": 16,
      "outputs": []
    },
    {
      "cell_type": "code",
      "metadata": {
        "id": "DgiHDPzFfW-a"
      },
      "source": [
        "# df.first_deliver_attempt.value_counts()"
      ],
      "execution_count": 17,
      "outputs": []
    },
    {
      "cell_type": "code",
      "metadata": {
        "id": "wKe9ceaTfXWB"
      },
      "source": [
        "# df.second_deliver_attempt.value_counts()"
      ],
      "execution_count": 18,
      "outputs": []
    },
    {
      "cell_type": "markdown",
      "metadata": {
        "id": "R8xHfdZJz7Zp"
      },
      "source": [
        "#Find Deliver Date"
      ]
    },
    {
      "cell_type": "code",
      "metadata": {
        "id": "36q1CuZ2kHZZ"
      },
      "source": [
        "def get_business_date_first(df):\r\n",
        "    create_date = str(df['pick'])\r\n",
        "    resolve_date = str(df['first_deliver_attempt'])\r\n",
        "\r\n",
        "    create_datetime = datetime.strptime(create_date, '%Y-%m-%d')\r\n",
        "    resolve_datetime = datetime.strptime(resolve_date, '%Y-%m-%d')\r\n",
        "\r\n",
        "    business_date = np.busday_count(create_date, resolve_date, holidays=public_holidays, weekmask=[1,1,1,1,1,1,0])\r\n",
        "\r\n",
        "    return business_date  "
      ],
      "execution_count": 19,
      "outputs": []
    },
    {
      "cell_type": "code",
      "metadata": {
        "id": "6Dp4_Ya9l1Io"
      },
      "source": [
        "df['1st_deliver_days'] = df.apply(get_business_date_first, axis=1)"
      ],
      "execution_count": 20,
      "outputs": []
    },
    {
      "cell_type": "code",
      "metadata": {
        "colab": {
          "base_uri": "https://localhost:8080/",
          "height": 296
        },
        "id": "91vFJj6ZnPfR",
        "outputId": "a2b46f35-9a98-4800-a7e0-725e310357d9"
      },
      "source": [
        "df.head()"
      ],
      "execution_count": 21,
      "outputs": [
        {
          "output_type": "execute_result",
          "data": {
            "text/html": [
              "<div>\n",
              "<style scoped>\n",
              "    .dataframe tbody tr th:only-of-type {\n",
              "        vertical-align: middle;\n",
              "    }\n",
              "\n",
              "    .dataframe tbody tr th {\n",
              "        vertical-align: top;\n",
              "    }\n",
              "\n",
              "    .dataframe thead th {\n",
              "        text-align: right;\n",
              "    }\n",
              "</style>\n",
              "<table border=\"1\" class=\"dataframe\">\n",
              "  <thead>\n",
              "    <tr style=\"text-align: right;\">\n",
              "      <th></th>\n",
              "      <th>orderid</th>\n",
              "      <th>pick</th>\n",
              "      <th>first_deliver_attempt</th>\n",
              "      <th>second_deliver_attempt</th>\n",
              "      <th>buyeraddress</th>\n",
              "      <th>selleraddress</th>\n",
              "      <th>origin</th>\n",
              "      <th>destination</th>\n",
              "      <th>1st_deliver_days</th>\n",
              "    </tr>\n",
              "  </thead>\n",
              "  <tbody>\n",
              "    <tr>\n",
              "      <th>0</th>\n",
              "      <td>2215676524</td>\n",
              "      <td>2020-03-02</td>\n",
              "      <td>2020-03-05</td>\n",
              "      <td>1970-01-01</td>\n",
              "      <td>Baging ldl BUENAVISTA,PATAG.CAGAYAN Buagsong,c...</td>\n",
              "      <td>Pantranco vill. 417 Warehouse# katipunan 532 (...</td>\n",
              "      <td>metro manila</td>\n",
              "      <td>metro manila</td>\n",
              "      <td>3</td>\n",
              "    </tr>\n",
              "    <tr>\n",
              "      <th>1</th>\n",
              "      <td>2219624609</td>\n",
              "      <td>2020-03-04</td>\n",
              "      <td>2020-03-06</td>\n",
              "      <td>2020-03-10</td>\n",
              "      <td>coloma's quzom CASANAS Site1 Masiyan 533A Stol...</td>\n",
              "      <td>BLDG 210A Moras C42B 2B16,168 church) Complex ...</td>\n",
              "      <td>metro manila</td>\n",
              "      <td>metro manila</td>\n",
              "      <td>2</td>\n",
              "    </tr>\n",
              "    <tr>\n",
              "      <th>2</th>\n",
              "      <td>2220979489</td>\n",
              "      <td>2020-03-04</td>\n",
              "      <td>2020-03-06</td>\n",
              "      <td>1970-01-01</td>\n",
              "      <td>21-O LumangDaan,Capitangan,Abucay,Bataan .Bign...</td>\n",
              "      <td>#66 150-C, DRIVE, Milagros Joe socorro Metro M...</td>\n",
              "      <td>metro manila</td>\n",
              "      <td>metro manila</td>\n",
              "      <td>2</td>\n",
              "    </tr>\n",
              "    <tr>\n",
              "      <th>3</th>\n",
              "      <td>2221066352</td>\n",
              "      <td>2020-03-05</td>\n",
              "      <td>2020-03-07</td>\n",
              "      <td>1970-01-01</td>\n",
              "      <td>616Espiritu MARTINVILLE,MANUYO #5paraiso kengi...</td>\n",
              "      <td>999maII 201,26 Villaruel Barretto gen.t number...</td>\n",
              "      <td>metro manila</td>\n",
              "      <td>metro manila</td>\n",
              "      <td>2</td>\n",
              "    </tr>\n",
              "    <tr>\n",
              "      <th>4</th>\n",
              "      <td>2222478803</td>\n",
              "      <td>2020-03-04</td>\n",
              "      <td>2020-03-06</td>\n",
              "      <td>1970-01-01</td>\n",
              "      <td>L042 Summerbreezee1 L2(Balanay analyn Lot760 C...</td>\n",
              "      <td>G66MANILA Hiyas Fitness MAYSILO magdiwang Lt.4...</td>\n",
              "      <td>metro manila</td>\n",
              "      <td>luzon</td>\n",
              "      <td>2</td>\n",
              "    </tr>\n",
              "  </tbody>\n",
              "</table>\n",
              "</div>"
            ],
            "text/plain": [
              "      orderid        pick  ...   destination 1st_deliver_days\n",
              "0  2215676524  2020-03-02  ...  metro manila                3\n",
              "1  2219624609  2020-03-04  ...  metro manila                2\n",
              "2  2220979489  2020-03-04  ...  metro manila                2\n",
              "3  2221066352  2020-03-05  ...  metro manila                2\n",
              "4  2222478803  2020-03-04  ...         luzon                2\n",
              "\n",
              "[5 rows x 9 columns]"
            ]
          },
          "metadata": {
            "tags": []
          },
          "execution_count": 21
        }
      ]
    },
    {
      "cell_type": "code",
      "metadata": {
        "id": "VWwdq0XJnWCh"
      },
      "source": [
        "def get_business_date_second(df):\r\n",
        "    create_date = str(df['first_deliver_attempt'])\r\n",
        "    resolve_date = str(df['second_deliver_attempt'])\r\n",
        "    \r\n",
        "    if resolve_date == '1970-01-01':\r\n",
        "        resolve_date = create_date\r\n",
        "\r\n",
        "    create_datetime = datetime.strptime(create_date, '%Y-%m-%d')\r\n",
        "    resolve_datetime = datetime.strptime(resolve_date, '%Y-%m-%d')\r\n",
        "\r\n",
        "    business_date = np.busday_count(create_date, resolve_date, holidays=public_holidays, weekmask=[1,1,1,1,1,1,0])\r\n",
        "\r\n",
        "    return business_date  "
      ],
      "execution_count": 22,
      "outputs": []
    },
    {
      "cell_type": "code",
      "metadata": {
        "id": "UhHqoOE5nmB4"
      },
      "source": [
        "df['2st_deliver_days'] = df.apply(get_business_date_second, axis=1)"
      ],
      "execution_count": 23,
      "outputs": []
    },
    {
      "cell_type": "code",
      "metadata": {
        "colab": {
          "base_uri": "https://localhost:8080/",
          "height": 346
        },
        "id": "XLAFamGgntIS",
        "outputId": "c5d88d9c-31c7-4c58-f6ba-f358a23a0ce3"
      },
      "source": [
        "df.head()"
      ],
      "execution_count": 24,
      "outputs": [
        {
          "output_type": "execute_result",
          "data": {
            "text/html": [
              "<div>\n",
              "<style scoped>\n",
              "    .dataframe tbody tr th:only-of-type {\n",
              "        vertical-align: middle;\n",
              "    }\n",
              "\n",
              "    .dataframe tbody tr th {\n",
              "        vertical-align: top;\n",
              "    }\n",
              "\n",
              "    .dataframe thead th {\n",
              "        text-align: right;\n",
              "    }\n",
              "</style>\n",
              "<table border=\"1\" class=\"dataframe\">\n",
              "  <thead>\n",
              "    <tr style=\"text-align: right;\">\n",
              "      <th></th>\n",
              "      <th>orderid</th>\n",
              "      <th>pick</th>\n",
              "      <th>first_deliver_attempt</th>\n",
              "      <th>second_deliver_attempt</th>\n",
              "      <th>buyeraddress</th>\n",
              "      <th>selleraddress</th>\n",
              "      <th>origin</th>\n",
              "      <th>destination</th>\n",
              "      <th>1st_deliver_days</th>\n",
              "      <th>2st_deliver_days</th>\n",
              "    </tr>\n",
              "  </thead>\n",
              "  <tbody>\n",
              "    <tr>\n",
              "      <th>0</th>\n",
              "      <td>2215676524</td>\n",
              "      <td>2020-03-02</td>\n",
              "      <td>2020-03-05</td>\n",
              "      <td>1970-01-01</td>\n",
              "      <td>Baging ldl BUENAVISTA,PATAG.CAGAYAN Buagsong,c...</td>\n",
              "      <td>Pantranco vill. 417 Warehouse# katipunan 532 (...</td>\n",
              "      <td>metro manila</td>\n",
              "      <td>metro manila</td>\n",
              "      <td>3</td>\n",
              "      <td>0</td>\n",
              "    </tr>\n",
              "    <tr>\n",
              "      <th>1</th>\n",
              "      <td>2219624609</td>\n",
              "      <td>2020-03-04</td>\n",
              "      <td>2020-03-06</td>\n",
              "      <td>2020-03-10</td>\n",
              "      <td>coloma's quzom CASANAS Site1 Masiyan 533A Stol...</td>\n",
              "      <td>BLDG 210A Moras C42B 2B16,168 church) Complex ...</td>\n",
              "      <td>metro manila</td>\n",
              "      <td>metro manila</td>\n",
              "      <td>2</td>\n",
              "      <td>3</td>\n",
              "    </tr>\n",
              "    <tr>\n",
              "      <th>2</th>\n",
              "      <td>2220979489</td>\n",
              "      <td>2020-03-04</td>\n",
              "      <td>2020-03-06</td>\n",
              "      <td>1970-01-01</td>\n",
              "      <td>21-O LumangDaan,Capitangan,Abucay,Bataan .Bign...</td>\n",
              "      <td>#66 150-C, DRIVE, Milagros Joe socorro Metro M...</td>\n",
              "      <td>metro manila</td>\n",
              "      <td>metro manila</td>\n",
              "      <td>2</td>\n",
              "      <td>0</td>\n",
              "    </tr>\n",
              "    <tr>\n",
              "      <th>3</th>\n",
              "      <td>2221066352</td>\n",
              "      <td>2020-03-05</td>\n",
              "      <td>2020-03-07</td>\n",
              "      <td>1970-01-01</td>\n",
              "      <td>616Espiritu MARTINVILLE,MANUYO #5paraiso kengi...</td>\n",
              "      <td>999maII 201,26 Villaruel Barretto gen.t number...</td>\n",
              "      <td>metro manila</td>\n",
              "      <td>metro manila</td>\n",
              "      <td>2</td>\n",
              "      <td>0</td>\n",
              "    </tr>\n",
              "    <tr>\n",
              "      <th>4</th>\n",
              "      <td>2222478803</td>\n",
              "      <td>2020-03-04</td>\n",
              "      <td>2020-03-06</td>\n",
              "      <td>1970-01-01</td>\n",
              "      <td>L042 Summerbreezee1 L2(Balanay analyn Lot760 C...</td>\n",
              "      <td>G66MANILA Hiyas Fitness MAYSILO magdiwang Lt.4...</td>\n",
              "      <td>metro manila</td>\n",
              "      <td>luzon</td>\n",
              "      <td>2</td>\n",
              "      <td>0</td>\n",
              "    </tr>\n",
              "  </tbody>\n",
              "</table>\n",
              "</div>"
            ],
            "text/plain": [
              "      orderid        pick  ... 1st_deliver_days 2st_deliver_days\n",
              "0  2215676524  2020-03-02  ...                3                0\n",
              "1  2219624609  2020-03-04  ...                2                3\n",
              "2  2220979489  2020-03-04  ...                2                0\n",
              "3  2221066352  2020-03-05  ...                2                0\n",
              "4  2222478803  2020-03-04  ...                2                0\n",
              "\n",
              "[5 rows x 10 columns]"
            ]
          },
          "metadata": {
            "tags": []
          },
          "execution_count": 24
        }
      ]
    },
    {
      "cell_type": "markdown",
      "metadata": {
        "id": "zNNlPde_0BFg"
      },
      "source": [
        "# Merge SLA"
      ]
    },
    {
      "cell_type": "code",
      "metadata": {
        "id": "-26okApuvmdK"
      },
      "source": [
        "conditions = [\r\n",
        "    (df['origin'].str.strip() == \"metro manila\") & (df['destination'].str.strip() ==\"metro manila\"),\r\n",
        "    (df['origin'].str.strip() == \"metro manila\") & (df['destination'].str.strip() ==\"luzon\"),\r\n",
        "    (df['origin'].str.strip() == \"metro manila\") & (df['destination'].str.strip() ==\"visayas\"),\r\n",
        "    (df['origin'].str.strip() == \"metro manila\") & (df['destination'].str.strip() ==\"mindanao\"),\r\n",
        "    (df['origin'].str.strip() == \"luzon\") & (df['destination'].str.strip() ==\"metro manila\"),\r\n",
        "    (df['origin'].str.strip() == \"luzon\") & (df['destination'].str.strip() ==\"luzon\"),\r\n",
        "    (df['origin'].str.strip() == \"luzon\") & (df['destination'].str.strip() ==\"visayas\"),\r\n",
        "    (df['origin'].str.strip() == \"luzon\") & (df['destination'].str.strip() ==\"mindanao\"),\r\n",
        "    (df['origin'].str.strip() == \"visayas\") & (df['destination'].str.strip() ==\"metro manila\"),\r\n",
        "    (df['origin'].str.strip() == \"visayas\") & (df['destination'].str.strip() ==\"luzon\"),\r\n",
        "    (df['origin'].str.strip() == \"visayas\") & (df['destination'].str.strip() ==\"visayas\"),\r\n",
        "    (df['origin'].str.strip() == \"visayas\") & (df['destination'].str.strip() ==\"mindanao\"),\r\n",
        "    (df['origin'].str.strip() == \"mindanao\") & (df['destination'].str.strip() ==\"metro manila\"),\r\n",
        "    (df['origin'].str.strip() == \"mindanao\") & (df['destination'].str.strip() ==\"luzon\"),\r\n",
        "    (df['origin'].str.strip() == \"mindanao\") & (df['destination'].str.strip() ==\"visayas\"),\r\n",
        "    (df['origin'].str.strip() == \"mindanao\") & (df['destination'].str.strip() ==\"mindanao\")\r\n",
        "    ]\r\n",
        "\r\n",
        "values = [3,5,7,7,5,5,7,7,7,7,7,7,7,7,7,7]"
      ],
      "execution_count": 25,
      "outputs": []
    },
    {
      "cell_type": "code",
      "metadata": {
        "id": "LkiNNHyfwc3Q"
      },
      "source": [
        "df['sla'] = np.select(conditions, values)"
      ],
      "execution_count": 26,
      "outputs": []
    },
    {
      "cell_type": "code",
      "metadata": {
        "colab": {
          "base_uri": "https://localhost:8080/",
          "height": 363
        },
        "id": "zIZ_VleowjBI",
        "outputId": "d16ff44a-b110-4056-f052-a41f93599bab"
      },
      "source": [
        "df.head()"
      ],
      "execution_count": 27,
      "outputs": [
        {
          "output_type": "execute_result",
          "data": {
            "text/html": [
              "<div>\n",
              "<style scoped>\n",
              "    .dataframe tbody tr th:only-of-type {\n",
              "        vertical-align: middle;\n",
              "    }\n",
              "\n",
              "    .dataframe tbody tr th {\n",
              "        vertical-align: top;\n",
              "    }\n",
              "\n",
              "    .dataframe thead th {\n",
              "        text-align: right;\n",
              "    }\n",
              "</style>\n",
              "<table border=\"1\" class=\"dataframe\">\n",
              "  <thead>\n",
              "    <tr style=\"text-align: right;\">\n",
              "      <th></th>\n",
              "      <th>orderid</th>\n",
              "      <th>pick</th>\n",
              "      <th>first_deliver_attempt</th>\n",
              "      <th>second_deliver_attempt</th>\n",
              "      <th>buyeraddress</th>\n",
              "      <th>selleraddress</th>\n",
              "      <th>origin</th>\n",
              "      <th>destination</th>\n",
              "      <th>1st_deliver_days</th>\n",
              "      <th>2st_deliver_days</th>\n",
              "      <th>sla</th>\n",
              "    </tr>\n",
              "  </thead>\n",
              "  <tbody>\n",
              "    <tr>\n",
              "      <th>0</th>\n",
              "      <td>2215676524</td>\n",
              "      <td>2020-03-02</td>\n",
              "      <td>2020-03-05</td>\n",
              "      <td>1970-01-01</td>\n",
              "      <td>Baging ldl BUENAVISTA,PATAG.CAGAYAN Buagsong,c...</td>\n",
              "      <td>Pantranco vill. 417 Warehouse# katipunan 532 (...</td>\n",
              "      <td>metro manila</td>\n",
              "      <td>metro manila</td>\n",
              "      <td>3</td>\n",
              "      <td>0</td>\n",
              "      <td>3</td>\n",
              "    </tr>\n",
              "    <tr>\n",
              "      <th>1</th>\n",
              "      <td>2219624609</td>\n",
              "      <td>2020-03-04</td>\n",
              "      <td>2020-03-06</td>\n",
              "      <td>2020-03-10</td>\n",
              "      <td>coloma's quzom CASANAS Site1 Masiyan 533A Stol...</td>\n",
              "      <td>BLDG 210A Moras C42B 2B16,168 church) Complex ...</td>\n",
              "      <td>metro manila</td>\n",
              "      <td>metro manila</td>\n",
              "      <td>2</td>\n",
              "      <td>3</td>\n",
              "      <td>3</td>\n",
              "    </tr>\n",
              "    <tr>\n",
              "      <th>2</th>\n",
              "      <td>2220979489</td>\n",
              "      <td>2020-03-04</td>\n",
              "      <td>2020-03-06</td>\n",
              "      <td>1970-01-01</td>\n",
              "      <td>21-O LumangDaan,Capitangan,Abucay,Bataan .Bign...</td>\n",
              "      <td>#66 150-C, DRIVE, Milagros Joe socorro Metro M...</td>\n",
              "      <td>metro manila</td>\n",
              "      <td>metro manila</td>\n",
              "      <td>2</td>\n",
              "      <td>0</td>\n",
              "      <td>3</td>\n",
              "    </tr>\n",
              "    <tr>\n",
              "      <th>3</th>\n",
              "      <td>2221066352</td>\n",
              "      <td>2020-03-05</td>\n",
              "      <td>2020-03-07</td>\n",
              "      <td>1970-01-01</td>\n",
              "      <td>616Espiritu MARTINVILLE,MANUYO #5paraiso kengi...</td>\n",
              "      <td>999maII 201,26 Villaruel Barretto gen.t number...</td>\n",
              "      <td>metro manila</td>\n",
              "      <td>metro manila</td>\n",
              "      <td>2</td>\n",
              "      <td>0</td>\n",
              "      <td>3</td>\n",
              "    </tr>\n",
              "    <tr>\n",
              "      <th>4</th>\n",
              "      <td>2222478803</td>\n",
              "      <td>2020-03-04</td>\n",
              "      <td>2020-03-06</td>\n",
              "      <td>1970-01-01</td>\n",
              "      <td>L042 Summerbreezee1 L2(Balanay analyn Lot760 C...</td>\n",
              "      <td>G66MANILA Hiyas Fitness MAYSILO magdiwang Lt.4...</td>\n",
              "      <td>metro manila</td>\n",
              "      <td>luzon</td>\n",
              "      <td>2</td>\n",
              "      <td>0</td>\n",
              "      <td>5</td>\n",
              "    </tr>\n",
              "  </tbody>\n",
              "</table>\n",
              "</div>"
            ],
            "text/plain": [
              "      orderid        pick  ... 2st_deliver_days sla\n",
              "0  2215676524  2020-03-02  ...                0   3\n",
              "1  2219624609  2020-03-04  ...                3   3\n",
              "2  2220979489  2020-03-04  ...                0   3\n",
              "3  2221066352  2020-03-05  ...                0   3\n",
              "4  2222478803  2020-03-04  ...                0   5\n",
              "\n",
              "[5 rows x 11 columns]"
            ]
          },
          "metadata": {
            "tags": []
          },
          "execution_count": 27
        }
      ]
    },
    {
      "cell_type": "markdown",
      "metadata": {
        "id": "hRDUzZzg0K9I"
      },
      "source": [
        "#Find Late"
      ]
    },
    {
      "cell_type": "code",
      "metadata": {
        "id": "xnBW99J7x1ZB"
      },
      "source": [
        "df[\"is_late\"] = (df[\"1st_deliver_days\"] > df[\"sla\"]) | (df[\"2st_deliver_days\"] > 3)\r\n",
        "df[\"is_late\"] = df[\"is_late\"].astype(int)"
      ],
      "execution_count": 28,
      "outputs": []
    },
    {
      "cell_type": "code",
      "metadata": {
        "colab": {
          "base_uri": "https://localhost:8080/",
          "height": 534
        },
        "id": "ItsIqGwoyDy4",
        "outputId": "b7fd1b85-8749-4c0c-ddd1-72f9d1b0d610"
      },
      "source": [
        "df.head()"
      ],
      "execution_count": 29,
      "outputs": [
        {
          "output_type": "execute_result",
          "data": {
            "text/html": [
              "<div>\n",
              "<style scoped>\n",
              "    .dataframe tbody tr th:only-of-type {\n",
              "        vertical-align: middle;\n",
              "    }\n",
              "\n",
              "    .dataframe tbody tr th {\n",
              "        vertical-align: top;\n",
              "    }\n",
              "\n",
              "    .dataframe thead th {\n",
              "        text-align: right;\n",
              "    }\n",
              "</style>\n",
              "<table border=\"1\" class=\"dataframe\">\n",
              "  <thead>\n",
              "    <tr style=\"text-align: right;\">\n",
              "      <th></th>\n",
              "      <th>orderid</th>\n",
              "      <th>pick</th>\n",
              "      <th>first_deliver_attempt</th>\n",
              "      <th>second_deliver_attempt</th>\n",
              "      <th>buyeraddress</th>\n",
              "      <th>selleraddress</th>\n",
              "      <th>origin</th>\n",
              "      <th>destination</th>\n",
              "      <th>1st_deliver_days</th>\n",
              "      <th>2st_deliver_days</th>\n",
              "      <th>sla</th>\n",
              "      <th>is_late</th>\n",
              "    </tr>\n",
              "  </thead>\n",
              "  <tbody>\n",
              "    <tr>\n",
              "      <th>0</th>\n",
              "      <td>2215676524</td>\n",
              "      <td>2020-03-02</td>\n",
              "      <td>2020-03-05</td>\n",
              "      <td>1970-01-01</td>\n",
              "      <td>Baging ldl BUENAVISTA,PATAG.CAGAYAN Buagsong,c...</td>\n",
              "      <td>Pantranco vill. 417 Warehouse# katipunan 532 (...</td>\n",
              "      <td>metro manila</td>\n",
              "      <td>metro manila</td>\n",
              "      <td>3</td>\n",
              "      <td>0</td>\n",
              "      <td>3</td>\n",
              "      <td>0</td>\n",
              "    </tr>\n",
              "    <tr>\n",
              "      <th>1</th>\n",
              "      <td>2219624609</td>\n",
              "      <td>2020-03-04</td>\n",
              "      <td>2020-03-06</td>\n",
              "      <td>2020-03-10</td>\n",
              "      <td>coloma's quzom CASANAS Site1 Masiyan 533A Stol...</td>\n",
              "      <td>BLDG 210A Moras C42B 2B16,168 church) Complex ...</td>\n",
              "      <td>metro manila</td>\n",
              "      <td>metro manila</td>\n",
              "      <td>2</td>\n",
              "      <td>3</td>\n",
              "      <td>3</td>\n",
              "      <td>0</td>\n",
              "    </tr>\n",
              "    <tr>\n",
              "      <th>2</th>\n",
              "      <td>2220979489</td>\n",
              "      <td>2020-03-04</td>\n",
              "      <td>2020-03-06</td>\n",
              "      <td>1970-01-01</td>\n",
              "      <td>21-O LumangDaan,Capitangan,Abucay,Bataan .Bign...</td>\n",
              "      <td>#66 150-C, DRIVE, Milagros Joe socorro Metro M...</td>\n",
              "      <td>metro manila</td>\n",
              "      <td>metro manila</td>\n",
              "      <td>2</td>\n",
              "      <td>0</td>\n",
              "      <td>3</td>\n",
              "      <td>0</td>\n",
              "    </tr>\n",
              "    <tr>\n",
              "      <th>3</th>\n",
              "      <td>2221066352</td>\n",
              "      <td>2020-03-05</td>\n",
              "      <td>2020-03-07</td>\n",
              "      <td>1970-01-01</td>\n",
              "      <td>616Espiritu MARTINVILLE,MANUYO #5paraiso kengi...</td>\n",
              "      <td>999maII 201,26 Villaruel Barretto gen.t number...</td>\n",
              "      <td>metro manila</td>\n",
              "      <td>metro manila</td>\n",
              "      <td>2</td>\n",
              "      <td>0</td>\n",
              "      <td>3</td>\n",
              "      <td>0</td>\n",
              "    </tr>\n",
              "    <tr>\n",
              "      <th>4</th>\n",
              "      <td>2222478803</td>\n",
              "      <td>2020-03-04</td>\n",
              "      <td>2020-03-06</td>\n",
              "      <td>1970-01-01</td>\n",
              "      <td>L042 Summerbreezee1 L2(Balanay analyn Lot760 C...</td>\n",
              "      <td>G66MANILA Hiyas Fitness MAYSILO magdiwang Lt.4...</td>\n",
              "      <td>metro manila</td>\n",
              "      <td>luzon</td>\n",
              "      <td>2</td>\n",
              "      <td>0</td>\n",
              "      <td>5</td>\n",
              "      <td>0</td>\n",
              "    </tr>\n",
              "  </tbody>\n",
              "</table>\n",
              "</div>"
            ],
            "text/plain": [
              "      orderid        pick first_deliver_attempt  ... 2st_deliver_days sla is_late\n",
              "0  2215676524  2020-03-02            2020-03-05  ...                0   3       0\n",
              "1  2219624609  2020-03-04            2020-03-06  ...                3   3       0\n",
              "2  2220979489  2020-03-04            2020-03-06  ...                0   3       0\n",
              "3  2221066352  2020-03-05            2020-03-07  ...                0   3       0\n",
              "4  2222478803  2020-03-04            2020-03-06  ...                0   5       0\n",
              "\n",
              "[5 rows x 12 columns]"
            ]
          },
          "metadata": {
            "tags": []
          },
          "execution_count": 29
        }
      ]
    },
    {
      "cell_type": "code",
      "metadata": {
        "colab": {
          "base_uri": "https://localhost:8080/"
        },
        "id": "LCWOgrgOyNG_",
        "outputId": "744d595f-8634-48ea-a18f-c3fc45d8c209"
      },
      "source": [
        "df.is_late.value_counts()"
      ],
      "execution_count": 30,
      "outputs": [
        {
          "output_type": "execute_result",
          "data": {
            "text/plain": [
              "0    2414175\n",
              "1     762138\n",
              "Name: is_late, dtype: int64"
            ]
          },
          "metadata": {
            "tags": []
          },
          "execution_count": 30
        }
      ]
    },
    {
      "cell_type": "code",
      "metadata": {
        "colab": {
          "base_uri": "https://localhost:8080/",
          "height": 290
        },
        "id": "jhJ3XgVdyJ95",
        "outputId": "72be1d8f-6f58-454d-934e-11cf960deea0"
      },
      "source": [
        "df.is_late.value_counts(sort=False).plot(kind=\"bar\")"
      ],
      "execution_count": 31,
      "outputs": [
        {
          "output_type": "execute_result",
          "data": {
            "text/plain": [
              "<matplotlib.axes._subplots.AxesSubplot at 0x7ff1f8906390>"
            ]
          },
          "metadata": {
            "tags": []
          },
          "execution_count": 31
        },
        {
          "output_type": "display_data",
          "data": {
            "image/png": "[encoded data removed]",
            "text/plain": [
              "<Figure size 432x288 with 1 Axes>"
            ]
          },
          "metadata": {
            "tags": [],
            "needs_background": "light"
          }
        }
      ]
    },
    {
      "cell_type": "markdown",
      "metadata": {
        "id": "pbyzCh63zZuo"
      },
      "source": [
        "# Summission Data"
      ]
    },
    {
      "cell_type": "code",
      "metadata": {
        "id": "IOFpw9RzywPp"
      },
      "source": [
        "submission = df[[\"orderid\",\"is_late\"]]"
      ],
      "execution_count": 32,
      "outputs": []
    },
    {
      "cell_type": "code",
      "metadata": {
        "colab": {
          "base_uri": "https://localhost:8080/",
          "height": 195
        },
        "id": "a7c7RoIUzJEA",
        "outputId": "f1f7248f-1233-49e9-9a73-5e91273df518"
      },
      "source": [
        "submission.head()"
      ],
      "execution_count": 33,
      "outputs": [
        {
          "output_type": "execute_result",
          "data": {
            "text/html": [
              "<div>\n",
              "<style scoped>\n",
              "    .dataframe tbody tr th:only-of-type {\n",
              "        vertical-align: middle;\n",
              "    }\n",
              "\n",
              "    .dataframe tbody tr th {\n",
              "        vertical-align: top;\n",
              "    }\n",
              "\n",
              "    .dataframe thead th {\n",
              "        text-align: right;\n",
              "    }\n",
              "</style>\n",
              "<table border=\"1\" class=\"dataframe\">\n",
              "  <thead>\n",
              "    <tr style=\"text-align: right;\">\n",
              "      <th></th>\n",
              "      <th>orderid</th>\n",
              "      <th>is_late</th>\n",
              "    </tr>\n",
              "  </thead>\n",
              "  <tbody>\n",
              "    <tr>\n",
              "      <th>0</th>\n",
              "      <td>2215676524</td>\n",
              "      <td>0</td>\n",
              "    </tr>\n",
              "    <tr>\n",
              "      <th>1</th>\n",
              "      <td>2219624609</td>\n",
              "      <td>0</td>\n",
              "    </tr>\n",
              "    <tr>\n",
              "      <th>2</th>\n",
              "      <td>2220979489</td>\n",
              "      <td>0</td>\n",
              "    </tr>\n",
              "    <tr>\n",
              "      <th>3</th>\n",
              "      <td>2221066352</td>\n",
              "      <td>0</td>\n",
              "    </tr>\n",
              "    <tr>\n",
              "      <th>4</th>\n",
              "      <td>2222478803</td>\n",
              "      <td>0</td>\n",
              "    </tr>\n",
              "  </tbody>\n",
              "</table>\n",
              "</div>"
            ],
            "text/plain": [
              "      orderid  is_late\n",
              "0  2215676524        0\n",
              "1  2219624609        0\n",
              "2  2220979489        0\n",
              "3  2221066352        0\n",
              "4  2222478803        0"
            ]
          },
          "metadata": {
            "tags": []
          },
          "execution_count": 33
        }
      ]
    },
    {
      "cell_type": "code",
      "metadata": {
        "id": "3zZ3xsJLzKuv"
      },
      "source": [
        "submission.to_csv(\"submission.csv\", index = False)"
      ],
      "execution_count": 34,
      "outputs": []
    }
  ]
}