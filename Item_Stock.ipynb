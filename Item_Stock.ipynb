{
  "nbformat": 4,
  "nbformat_minor": 0,
  "metadata": {
    "colab": {
      "name": "Item Stock.ipynb",
      "provenance": [],
      "collapsed_sections": [],
      "authorship_tag": "ABX9TyMPgelLtjOVjx4YwU5KA4sh",
      "include_colab_link": true
    },
    "kernelspec": {
      "name": "python3",
      "display_name": "Python 3"
    }
  },
  "cells": [
    {
      "cell_type": "markdown",
      "metadata": {
        "id": "view-in-github",
        "colab_type": "text"
      },
      "source": [
        "<a href=\"https://colab.research.google.com/github/Kzis/shopee-code-league/blob/main/Item_Stock.ipynb\" target=\"_parent\"><img src=\"https://colab.research.google.com/assets/colab-badge.svg\" alt=\"Open In Colab\"/></a>"
      ]
    },
    {
      "cell_type": "code",
      "metadata": {
        "id": "XZah1JAbcHw5"
      },
      "source": [
        "from enum import Enum\r\n",
        "\r\n",
        "class Type(Enum):\r\n",
        "    DYANAMIC = 1\r\n",
        "    FIXED = 2"
      ],
      "execution_count": 1,
      "outputs": []
    },
    {
      "cell_type": "code",
      "metadata": {
        "id": "uTLcjqwtcZfZ"
      },
      "source": [
        "class Node:\r\n",
        "    def __init__(self, id, type, parent, ratio, stock):\r\n",
        "        self.id = id\r\n",
        "        self.parent = parent\r\n",
        "        self.type = Type(type)\r\n",
        "        self.ratio = ratio\r\n",
        "        self.stock = stock\r\n",
        "        self.children = []\r\n",
        "\r\n",
        "    def __str__(self):\r\n",
        "        return f\"id: {self.id}\\n\" + \\\r\n",
        "            f\"parent: {self.parent.id if self.parent else 'nil'}\\n\" + \\\r\n",
        "            f\"type: {self.type}\\n\" + \\\r\n",
        "            f\"ratio: {self.ratio}\\n\" + \\\r\n",
        "            f\"stock: {self.stock}\\n\" + \\\r\n",
        "            f\"children: {list(map(lambda x: x.id, self.children))}\""
      ],
      "execution_count": 2,
      "outputs": []
    },
    {
      "cell_type": "code",
      "metadata": {
        "id": "RYtury9QhALT"
      },
      "source": [
        "def convert_value_to_node(data):\r\n",
        "  params = list(map(int, data.split()))\r\n",
        "  type = Type(params[0])\r\n",
        "  parent = params[1]\r\n",
        "  ratio = params[2]\r\n",
        "  if type == Type.DYANAMIC:\r\n",
        "    return type, parent, ratio, None\r\n",
        "  else:\r\n",
        "    stock = params[3]\r\n",
        "    return type, parent, ratio, stock"
      ],
      "execution_count": 3,
      "outputs": []
    },
    {
      "cell_type": "code",
      "metadata": {
        "id": "Nl-bLAggsEm6"
      },
      "source": [
        "def get_first_fixed_node(node):\r\n",
        "    current = node\r\n",
        "    while current.type != Type.FIXED:\r\n",
        "        current = current.parent\r\n",
        "    return current"
      ],
      "execution_count": 6,
      "outputs": []
    },
    {
      "cell_type": "code",
      "metadata": {
        "id": "K5C9olIysHDn"
      },
      "source": [
        "def get_multiplier(begin, end):\r\n",
        "    multiplier = 1\r\n",
        "    current = begin\r\n",
        "    while current.id != end.id:\r\n",
        "        multiplier = multiplier * current.ratio\r\n",
        "        current = current.parent\r\n",
        "    return multiplier"
      ],
      "execution_count": 7,
      "outputs": []
    },
    {
      "cell_type": "code",
      "metadata": {
        "id": "hS4hCedVsMXP"
      },
      "source": [
        "def redistribute_stock(node):\r\n",
        "    for child in node.children:\r\n",
        "        if child.type == Type.DYANAMIC:\r\n",
        "            child.stock = math.floor(node.stock / child.ratio)\r\n",
        "            redistribute_stock(child)"
      ],
      "execution_count": 8,
      "outputs": []
    },
    {
      "cell_type": "code",
      "metadata": {
        "id": "a_r42NMHers7"
      },
      "source": [
        "sample_input = [\"5 15\"\r\n",
        "                ,\"1 1 2\"\r\n",
        "                ,\"2 1 3 1\"\r\n",
        "                ,\"1 2 1\"\r\n",
        "                ,\"2 4 3 1\"\r\n",
        "                ]"
      ],
      "execution_count": 12,
      "outputs": []
    },
    {
      "cell_type": "code",
      "metadata": {
        "colab": {
          "base_uri": "https://localhost:8080/"
        },
        "id": "q7Vu38kr5JyC",
        "outputId": "62e26ed6-7588-4be9-f492-b11bcfe9496d"
      },
      "source": [
        "import sys\r\n",
        "import math\r\n",
        "\r\n",
        "\r\n",
        "[items, stock, ] = map(int, sample_input[0].split())\r\n",
        "tree = Node(1, Type.FIXED, None, None, stock)    \r\n",
        "nodes = list(map(lambda x: None, range(items)))\r\n",
        "nodes[0] = tree\r\n",
        "\r\n",
        "for i in range(1, items):\r\n",
        "\r\n",
        "  type, parent, ratio, stock = convert_value_to_node(sample_input[i])\r\n",
        "  current = Node(i+1, type, nodes[parent - 1], ratio, stock)\r\n",
        "  current.parent.children.append(current)\r\n",
        "  nodes[i] = current\r\n",
        "  parent = nodes[parent - 1]\r\n",
        "\r\n",
        "  if current.type == Type.DYANAMIC:\r\n",
        "      current.stock = math.floor(parent.stock / current.ratio)\r\n",
        "  else:\r\n",
        "      source = get_first_fixed_node(parent)\r\n",
        "      multiplier = get_multiplier(current, source)\r\n",
        "      source.stock = source.stock - current.stock * multiplier\r\n",
        "      redistribute_stock(source)\r\n",
        "\r\n",
        "for node in nodes:\r\n",
        "  print(node.stock) "
      ],
      "execution_count": 16,
      "outputs": [
        {
          "output_type": "stream",
          "text": [
            "6\n",
            "3\n",
            "1\n",
            "3\n",
            "1\n"
          ],
          "name": "stdout"
        }
      ]
    },
    {
      "cell_type": "code",
      "metadata": {
        "id": "R4CNWCuieyFm"
      },
      "source": [
        ""
      ],
      "execution_count": null,
      "outputs": []
    }
  ]
}